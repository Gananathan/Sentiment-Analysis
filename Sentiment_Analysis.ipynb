{
 "cells": [
  {
   "cell_type": "markdown",
   "metadata": {},
   "source": [
    "# Comparison of algorithms for Sentiment Analysis in IMDB movie review data"
   ]
  },
  {
   "cell_type": "code",
   "execution_count": 1135,
   "metadata": {},
   "outputs": [],
   "source": [
    "import numpy as np\n",
    "import re,os,string\n",
    "import nltk\n",
    "from nltk.tokenize import word_tokenize\n",
    "from nltk.corpus import stopwords\n",
    "from sklearn.svm import SVC,LinearSVC\n",
    "from sklearn.metrics import confusion_matrix,accuracy_score\n",
    "from sklearn.feature_extraction.text import TfidfVectorizer,CountVectorizer\n",
    "import pandas as pd\n",
    "# import os\n",
    "# os.environ['PATH']"
   ]
  },
  {
   "cell_type": "code",
   "execution_count": 1161,
   "metadata": {},
   "outputs": [],
   "source": [
    "rawfile = open(r'imdb_labelled.txt').readlines()"
   ]
  },
  {
   "cell_type": "code",
   "execution_count": 1191,
   "metadata": {},
   "outputs": [],
   "source": [
    "reviews = pd.Series(rawfile)\n",
    "reviews_df = reviews.str.extract(r'(.*)(\\d)')\n",
    "reviews_df.rename(columns={0 : 'Review',1 : 'Sentiment'},inplace=True)"
   ]
  },
  {
   "cell_type": "markdown",
   "metadata": {},
   "source": [
    "## Pre-processing"
   ]
  },
  {
   "cell_type": "code",
   "execution_count": 1198,
   "metadata": {},
   "outputs": [],
   "source": [
    "stop_words = set(stopwords.words('english'))    #Stop words removal\n",
    "def join_l(l, sep):\n",
    "    try:\n",
    "        li = iter(l)\n",
    "        string = str(next(li))\n",
    "        for i in li:\n",
    "            string += str(sep) + str(i)\n",
    "        return string\n",
    "    except Exception as e:\n",
    "        print(e)\n",
    "kl=0\n",
    "for index,row in reviews_df.iterrows():\n",
    "    a=''\n",
    "    assign=' '   \n",
    "    if np.any(np.equal(row['Review'],None)):\n",
    "        print(index,\"hs none\")\n",
    "        continue\n",
    "#     print(index,\"index\")\n",
    "#     print(len(row['Review']))\n",
    "    a=a.join(row['Review'])\n",
    "    #print(a.join(row['Review']),\"is the pandas read\")\n",
    "    words = nltk.word_tokenize(a)           # Tokenization\n",
    "    #print(words)\n",
    "    words = [w.lower() for w in words]      # Change to lower case\n",
    "    table = str.maketrans('', '', string.punctuation)\n",
    "    stripped = [w.translate(table) for w in words]\n",
    "    words = [word for word in stripped if word.isalnum()]\n",
    "#     words=[word.lower() for word in words if word.isalpha()]\n",
    "#     print(words)#reviews_df.iloc(index,0)=\n",
    "    words = [w for w in words if not w in stop_words]\n",
    "#     print(words)\n",
    "    reviews_df.iloc[kl,0]=join_l(words,' ')\n",
    "    kl=kl+1\n",
    "reviews_df.to_csv(\"results.csv\")"
   ]
  },
  {
   "cell_type": "markdown",
   "metadata": {},
   "source": [
    "## Train - Test Split"
   ]
  },
  {
   "cell_type": "code",
   "execution_count": 1200,
   "metadata": {},
   "outputs": [],
   "source": [
    "from sklearn.model_selection import train_test_split\n",
    "X = reviews_df['Review']\n",
    "y = reviews_df['Sentiment']\n",
    "X_train, X_test, y_train, y_test = train_test_split(X, y, test_size=0.2)"
   ]
  },
  {
   "cell_type": "code",
   "execution_count": 1201,
   "metadata": {},
   "outputs": [
    {
     "name": "stdout",
     "output_type": "stream",
     "text": [
      "7505\n",
      "2978\n"
     ]
    },
    {
     "data": {
      "text/html": [
       "<div>\n",
       "<style scoped>\n",
       "    .dataframe tbody tr th:only-of-type {\n",
       "        vertical-align: middle;\n",
       "    }\n",
       "\n",
       "    .dataframe tbody tr th {\n",
       "        vertical-align: top;\n",
       "    }\n",
       "\n",
       "    .dataframe thead th {\n",
       "        text-align: right;\n",
       "    }\n",
       "</style>\n",
       "<table border=\"1\" class=\"dataframe\">\n",
       "  <thead>\n",
       "    <tr style=\"text-align: right;\">\n",
       "      <th></th>\n",
       "      <th>Review</th>\n",
       "      <th>Sentiment</th>\n",
       "    </tr>\n",
       "  </thead>\n",
       "  <tbody>\n",
       "    <tr>\n",
       "      <th>0</th>\n",
       "      <td>ï slowmoving aimless movie distressed drifting...</td>\n",
       "      <td>0</td>\n",
       "    </tr>\n",
       "    <tr>\n",
       "      <th>1</th>\n",
       "      <td>sure lost flat characters audience nearly half...</td>\n",
       "      <td>0</td>\n",
       "    </tr>\n",
       "    <tr>\n",
       "      <th>2</th>\n",
       "      <td>attempting artiness black white clever camera ...</td>\n",
       "      <td>0</td>\n",
       "    </tr>\n",
       "    <tr>\n",
       "      <th>3</th>\n",
       "      <td>little music anything speak</td>\n",
       "      <td>0</td>\n",
       "    </tr>\n",
       "    <tr>\n",
       "      <th>4</th>\n",
       "      <td>best scene movie gerardo trying find song keep...</td>\n",
       "      <td>1</td>\n",
       "    </tr>\n",
       "    <tr>\n",
       "      <th>5</th>\n",
       "      <td>rest movie lacks art charm meaning emptiness w...</td>\n",
       "      <td>0</td>\n",
       "    </tr>\n",
       "    <tr>\n",
       "      <th>6</th>\n",
       "      <td>wasted two hours</td>\n",
       "      <td>0</td>\n",
       "    </tr>\n",
       "    <tr>\n",
       "      <th>7</th>\n",
       "      <td>saw movie today thought good effort good messa...</td>\n",
       "      <td>1</td>\n",
       "    </tr>\n",
       "    <tr>\n",
       "      <th>8</th>\n",
       "      <td>bit predictable</td>\n",
       "      <td>0</td>\n",
       "    </tr>\n",
       "    <tr>\n",
       "      <th>9</th>\n",
       "      <td>loved casting jimmy buffet science teacher</td>\n",
       "      <td>1</td>\n",
       "    </tr>\n",
       "    <tr>\n",
       "      <th>10</th>\n",
       "      <td>baby owls adorable</td>\n",
       "      <td>1</td>\n",
       "    </tr>\n",
       "    <tr>\n",
       "      <th>11</th>\n",
       "      <td>movie showed lot florida best made look appealing</td>\n",
       "      <td>1</td>\n",
       "    </tr>\n",
       "    <tr>\n",
       "      <th>12</th>\n",
       "      <td>songs best muppets hilarious</td>\n",
       "      <td>1</td>\n",
       "    </tr>\n",
       "    <tr>\n",
       "      <th>13</th>\n",
       "      <td>cool</td>\n",
       "      <td>1</td>\n",
       "    </tr>\n",
       "    <tr>\n",
       "      <th>14</th>\n",
       "      <td>right case movie delivers everything almost ri...</td>\n",
       "      <td>1</td>\n",
       "    </tr>\n",
       "    <tr>\n",
       "      <th>15</th>\n",
       "      <td>average acting main person low budget clearly see</td>\n",
       "      <td>0</td>\n",
       "    </tr>\n",
       "    <tr>\n",
       "      <th>16</th>\n",
       "      <td>review long overdue since consider tale two si...</td>\n",
       "      <td>1</td>\n",
       "    </tr>\n",
       "    <tr>\n",
       "      <th>17</th>\n",
       "      <td>put gem movie terms screenplay cinematography ...</td>\n",
       "      <td>1</td>\n",
       "    </tr>\n",
       "    <tr>\n",
       "      <th>18</th>\n",
       "      <td>practically perfect true masterpiece sea faux ...</td>\n",
       "      <td>1</td>\n",
       "    </tr>\n",
       "    <tr>\n",
       "      <th>19</th>\n",
       "      <td>structure film easily tightly constructed hist...</td>\n",
       "      <td>1</td>\n",
       "    </tr>\n",
       "    <tr>\n",
       "      <th>20</th>\n",
       "      <td>think film something vitally important occurs ...</td>\n",
       "      <td>1</td>\n",
       "    </tr>\n",
       "    <tr>\n",
       "      <th>21</th>\n",
       "      <td>words content level film enough easily fill do...</td>\n",
       "      <td>1</td>\n",
       "    </tr>\n",
       "    <tr>\n",
       "      <th>22</th>\n",
       "      <td>anyone right mind ask anything movie</td>\n",
       "      <td>1</td>\n",
       "    </tr>\n",
       "    <tr>\n",
       "      <th>23</th>\n",
       "      <td>quite simply highest superlative form cinema i...</td>\n",
       "      <td>1</td>\n",
       "    </tr>\n",
       "    <tr>\n",
       "      <th>24</th>\n",
       "      <td>yes film require rather significant amount puz...</td>\n",
       "      <td>1</td>\n",
       "    </tr>\n",
       "    <tr>\n",
       "      <th>25</th>\n",
       "      <td>short film certainly pulls punches</td>\n",
       "      <td>0</td>\n",
       "    </tr>\n",
       "    <tr>\n",
       "      <th>26</th>\n",
       "      <td>graphics far best part game</td>\n",
       "      <td>0</td>\n",
       "    </tr>\n",
       "    <tr>\n",
       "      <th>27</th>\n",
       "      <td>number one best th game series</td>\n",
       "      <td>1</td>\n",
       "    </tr>\n",
       "    <tr>\n",
       "      <th>28</th>\n",
       "      <td>deserves strong love</td>\n",
       "      <td>1</td>\n",
       "    </tr>\n",
       "    <tr>\n",
       "      <th>29</th>\n",
       "      <td>insane game</td>\n",
       "      <td>1</td>\n",
       "    </tr>\n",
       "    <tr>\n",
       "      <th>...</th>\n",
       "      <td>...</td>\n",
       "      <td>...</td>\n",
       "    </tr>\n",
       "    <tr>\n",
       "      <th>970</th>\n",
       "      <td>enough said remarkable animation film</td>\n",
       "      <td>1</td>\n",
       "    </tr>\n",
       "    <tr>\n",
       "      <th>971</th>\n",
       "      <td>art style appearance crayonpencil drawings won...</td>\n",
       "      <td>1</td>\n",
       "    </tr>\n",
       "    <tr>\n",
       "      <th>972</th>\n",
       "      <td>act film glad gon na drift away earth far poss...</td>\n",
       "      <td>0</td>\n",
       "    </tr>\n",
       "    <tr>\n",
       "      <th>973</th>\n",
       "      <td>one wants surf small wave space movies 1998 de...</td>\n",
       "      <td>0</td>\n",
       "    </tr>\n",
       "    <tr>\n",
       "      <th>974</th>\n",
       "      <td>nt choked vomit end cheap drama worthless dial...</td>\n",
       "      <td>0</td>\n",
       "    </tr>\n",
       "    <tr>\n",
       "      <th>975</th>\n",
       "      <td>still makes super ending depicts great sea ves...</td>\n",
       "      <td>1</td>\n",
       "    </tr>\n",
       "    <tr>\n",
       "      <th>976</th>\n",
       "      <td>consider excellent story solid acting look fil...</td>\n",
       "      <td>1</td>\n",
       "    </tr>\n",
       "    <tr>\n",
       "      <th>977</th>\n",
       "      <td>instead got bore fest whiny spoiled brat babys...</td>\n",
       "      <td>0</td>\n",
       "    </tr>\n",
       "    <tr>\n",
       "      <th>978</th>\n",
       "      <td>watched two sundays ago march 20th 2005 began ...</td>\n",
       "      <td>1</td>\n",
       "    </tr>\n",
       "    <tr>\n",
       "      <th>979</th>\n",
       "      <td>well acted done tv movie</td>\n",
       "      <td>1</td>\n",
       "    </tr>\n",
       "    <tr>\n",
       "      <th>980</th>\n",
       "      <td>judith light one favorite actresses think supe...</td>\n",
       "      <td>1</td>\n",
       "    </tr>\n",
       "    <tr>\n",
       "      <th>981</th>\n",
       "      <td>keep watching</td>\n",
       "      <td>1</td>\n",
       "    </tr>\n",
       "    <tr>\n",
       "      <th>982</th>\n",
       "      <td>sad movie good</td>\n",
       "      <td>1</td>\n",
       "    </tr>\n",
       "    <tr>\n",
       "      <th>983</th>\n",
       "      <td>seen movie definitely recommend</td>\n",
       "      <td>1</td>\n",
       "    </tr>\n",
       "    <tr>\n",
       "      <th>984</th>\n",
       "      <td>lovely usual cutie</td>\n",
       "      <td>1</td>\n",
       "    </tr>\n",
       "    <tr>\n",
       "      <th>985</th>\n",
       "      <td>still quite interesting entertaining follow</td>\n",
       "      <td>1</td>\n",
       "    </tr>\n",
       "    <tr>\n",
       "      <th>986</th>\n",
       "      <td>recommend confidence</td>\n",
       "      <td>1</td>\n",
       "    </tr>\n",
       "    <tr>\n",
       "      <th>987</th>\n",
       "      <td>movie wellbalanced comedy drama thoroughly enj...</td>\n",
       "      <td>1</td>\n",
       "    </tr>\n",
       "    <tr>\n",
       "      <th>988</th>\n",
       "      <td>riot see hugo weaving play sexobsessed gay rea...</td>\n",
       "      <td>1</td>\n",
       "    </tr>\n",
       "    <tr>\n",
       "      <th>989</th>\n",
       "      <td>anyway plot flowed smoothly malebonding scenes...</td>\n",
       "      <td>1</td>\n",
       "    </tr>\n",
       "    <tr>\n",
       "      <th>990</th>\n",
       "      <td>opening sequence gem classic cat n mouse games...</td>\n",
       "      <td>1</td>\n",
       "    </tr>\n",
       "    <tr>\n",
       "      <th>991</th>\n",
       "      <td>fans genre heaven</td>\n",
       "      <td>1</td>\n",
       "    </tr>\n",
       "    <tr>\n",
       "      <th>992</th>\n",
       "      <td>lange become great actress</td>\n",
       "      <td>1</td>\n",
       "    </tr>\n",
       "    <tr>\n",
       "      <th>993</th>\n",
       "      <td>looked like wonderful story</td>\n",
       "      <td>1</td>\n",
       "    </tr>\n",
       "    <tr>\n",
       "      <th>994</th>\n",
       "      <td>never walked movie faster</td>\n",
       "      <td>0</td>\n",
       "    </tr>\n",
       "    <tr>\n",
       "      <th>995</th>\n",
       "      <td>got bored watching jessice lange take clothes</td>\n",
       "      <td>0</td>\n",
       "    </tr>\n",
       "    <tr>\n",
       "      <th>996</th>\n",
       "      <td>unfortunately virtue film production work lost...</td>\n",
       "      <td>0</td>\n",
       "    </tr>\n",
       "    <tr>\n",
       "      <th>997</th>\n",
       "      <td>word embarrassing</td>\n",
       "      <td>0</td>\n",
       "    </tr>\n",
       "    <tr>\n",
       "      <th>998</th>\n",
       "      <td>exceptionally bad</td>\n",
       "      <td>0</td>\n",
       "    </tr>\n",
       "    <tr>\n",
       "      <th>999</th>\n",
       "      <td>insult one intelligence huge waste money</td>\n",
       "      <td>0</td>\n",
       "    </tr>\n",
       "  </tbody>\n",
       "</table>\n",
       "<p>1000 rows × 2 columns</p>\n",
       "</div>"
      ],
      "text/plain": [
       "                                                Review Sentiment\n",
       "0    ï slowmoving aimless movie distressed drifting...         0\n",
       "1    sure lost flat characters audience nearly half...         0\n",
       "2    attempting artiness black white clever camera ...         0\n",
       "3                          little music anything speak         0\n",
       "4    best scene movie gerardo trying find song keep...         1\n",
       "5    rest movie lacks art charm meaning emptiness w...         0\n",
       "6                                     wasted two hours         0\n",
       "7    saw movie today thought good effort good messa...         1\n",
       "8                                      bit predictable         0\n",
       "9           loved casting jimmy buffet science teacher         1\n",
       "10                                  baby owls adorable         1\n",
       "11   movie showed lot florida best made look appealing         1\n",
       "12                        songs best muppets hilarious         1\n",
       "13                                                cool         1\n",
       "14   right case movie delivers everything almost ri...         1\n",
       "15   average acting main person low budget clearly see         0\n",
       "16   review long overdue since consider tale two si...         1\n",
       "17   put gem movie terms screenplay cinematography ...         1\n",
       "18   practically perfect true masterpiece sea faux ...         1\n",
       "19   structure film easily tightly constructed hist...         1\n",
       "20   think film something vitally important occurs ...         1\n",
       "21   words content level film enough easily fill do...         1\n",
       "22                anyone right mind ask anything movie         1\n",
       "23   quite simply highest superlative form cinema i...         1\n",
       "24   yes film require rather significant amount puz...         1\n",
       "25                  short film certainly pulls punches         0\n",
       "26                         graphics far best part game         0\n",
       "27                      number one best th game series         1\n",
       "28                                deserves strong love         1\n",
       "29                                         insane game         1\n",
       "..                                                 ...       ...\n",
       "970              enough said remarkable animation film         1\n",
       "971  art style appearance crayonpencil drawings won...         1\n",
       "972  act film glad gon na drift away earth far poss...         0\n",
       "973  one wants surf small wave space movies 1998 de...         0\n",
       "974  nt choked vomit end cheap drama worthless dial...         0\n",
       "975  still makes super ending depicts great sea ves...         1\n",
       "976  consider excellent story solid acting look fil...         1\n",
       "977  instead got bore fest whiny spoiled brat babys...         0\n",
       "978  watched two sundays ago march 20th 2005 began ...         1\n",
       "979                           well acted done tv movie         1\n",
       "980  judith light one favorite actresses think supe...         1\n",
       "981                                      keep watching         1\n",
       "982                                     sad movie good         1\n",
       "983                    seen movie definitely recommend         1\n",
       "984                                 lovely usual cutie         1\n",
       "985        still quite interesting entertaining follow         1\n",
       "986                               recommend confidence         1\n",
       "987  movie wellbalanced comedy drama thoroughly enj...         1\n",
       "988  riot see hugo weaving play sexobsessed gay rea...         1\n",
       "989  anyway plot flowed smoothly malebonding scenes...         1\n",
       "990  opening sequence gem classic cat n mouse games...         1\n",
       "991                                  fans genre heaven         1\n",
       "992                         lange become great actress         1\n",
       "993                        looked like wonderful story         1\n",
       "994                          never walked movie faster         0\n",
       "995      got bored watching jessice lange take clothes         0\n",
       "996  unfortunately virtue film production work lost...         0\n",
       "997                                  word embarrassing         0\n",
       "998                                  exceptionally bad         0\n",
       "999           insult one intelligence huge waste money         0\n",
       "\n",
       "[1000 rows x 2 columns]"
      ]
     },
     "execution_count": 1201,
     "metadata": {},
     "output_type": "execute_result"
    }
   ],
   "source": [
    "a=[]\n",
    "for index,row in reviews_df.iterrows():\n",
    "    a.extend(row['Review'].split())\n",
    "\n",
    "print(len(a))\n",
    "print(len(set(a)))\n",
    "    \n",
    "reviews_df"
   ]
  },
  {
   "cell_type": "markdown",
   "metadata": {},
   "source": [
    "## Tf-idf Vectorization "
   ]
  },
  {
   "cell_type": "code",
   "execution_count": 1202,
   "metadata": {},
   "outputs": [
    {
     "data": {
      "text/plain": [
       "<1000x2964 sparse matrix of type '<class 'numpy.float64'>'\n",
       "\twith 7315 stored elements in Compressed Sparse Row format>"
      ]
     },
     "execution_count": 1202,
     "metadata": {},
     "output_type": "execute_result"
    }
   ],
   "source": [
    "from sklearn.feature_extraction.text import TfidfVectorizer\n",
    "vectorizer = TfidfVectorizer(max_features=len(set(a)))\n",
    "# allDataVectorized = \n",
    "vectorizer.fit_transform(reviews_df['Review'])"
   ]
  },
  {
   "cell_type": "code",
   "execution_count": 1203,
   "metadata": {},
   "outputs": [],
   "source": [
    "# Train_X, Test_X, Train_Y, Test_Y = train_test_split(reviews_df['Review'],reviews_df['Sentiment'],test_size=0.2)\n",
    "trainX_vectors = vectorizer.transform(Train_X)\n",
    "# trainy_vectors = vectorizer.transform(Train_Y)\n",
    "testX_vectors = vectorizer.transform(Test_X) \n",
    "# testy_vectors = vectorizer.transform(Test_Y)"
   ]
  },
  {
   "cell_type": "code",
   "execution_count": 1142,
   "metadata": {},
   "outputs": [],
   "source": [
    "# Train_Y"
   ]
  },
  {
   "cell_type": "code",
   "execution_count": 1204,
   "metadata": {},
   "outputs": [],
   "source": [
    "Train_Y\n",
    "train_y_int=[]\n",
    "for i in Train_Y:\n",
    "    train_y_int.append(i)\n",
    "test_y_int=[]\n",
    "for j in Test_Y:\n",
    "    test_y_int.append(j)"
   ]
  },
  {
   "cell_type": "code",
   "execution_count": null,
   "metadata": {},
   "outputs": [],
   "source": [
    "# reviews_df['Review'] = reviews_df['Review'].apply(lambda x: [item for item in x if item not in stop])"
   ]
  },
  {
   "cell_type": "markdown",
   "metadata": {},
   "source": [
    "### SVM"
   ]
  },
  {
   "cell_type": "code",
   "execution_count": 1209,
   "metadata": {},
   "outputs": [
    {
     "name": "stdout",
     "output_type": "stream",
     "text": [
      "[[84 15]\n",
      " [16 85]]\n",
      "             precision    recall  f1-score   support\n",
      "\n",
      "          0       0.84      0.85      0.84        99\n",
      "          1       0.85      0.84      0.85       101\n",
      "\n",
      "avg / total       0.85      0.84      0.85       200\n",
      "\n"
     ]
    }
   ],
   "source": [
    "from sklearn.svm import SVC,LinearSVC\n",
    "from sklearn.metrics import confusion_matrix,accuracy_score,classification_report\n",
    "clf = SVC(kernel = 'linear', C = 1, gamma = 0.001)\n",
    "# clf = SVC(C=1.0, kernel='linear', gamma='auto')\n",
    "clf.fit(trainX_vectors,train_y_int) \n",
    "print(confusion_matrix(test_y_int,clf.predict(testX_vectors)))\n",
    "print(classification_report(test_y_int,clf.predict(testX_vectors)))"
   ]
  },
  {
   "cell_type": "markdown",
   "metadata": {},
   "source": [
    "## Grid Search for SVM tuning"
   ]
  },
  {
   "cell_type": "code",
   "execution_count": 1207,
   "metadata": {},
   "outputs": [],
   "source": [
    "from sklearn.model_selection import GridSearchCV\n",
    "def svc_param_selection(X, y, nfolds):\n",
    "    Cs = [0.001, 0.01, 0.1, 1, 10]\n",
    "    gammas = [0.001, 0.01, 0.1, 1]\n",
    "    param_grid = {'C': Cs, 'gamma' : gammas}\n",
    "    grid_search = GridSearchCV(svm.SVC(kernel='linear'), param_grid, cv=nfolds)\n",
    "    grid_search.fit(X, y)\n",
    "    grid_search.best_params_\n",
    "    return grid_search.best_params_"
   ]
  },
  {
   "cell_type": "code",
   "execution_count": 1208,
   "metadata": {},
   "outputs": [
    {
     "data": {
      "text/plain": [
       "{'C': 1, 'gamma': 0.001}"
      ]
     },
     "execution_count": 1208,
     "metadata": {},
     "output_type": "execute_result"
    }
   ],
   "source": [
    "svc_param_selection(testX_vectors,Test_Y,10)"
   ]
  },
  {
   "cell_type": "code",
   "execution_count": 1211,
   "metadata": {},
   "outputs": [],
   "source": [
    "from sklearn.metrics import roc_curve\n",
    "from sklearn.metrics import roc_auc_score, precision_recall_curve,average_precision_score\n",
    "from matplotlib import pyplot\n",
    "\n",
    "# probs = Naive.predict_proba(testX_vectors)\n",
    "\n",
    "# probs = probs[:, 1]\n",
    "# # calculate AUC\n",
    "# # auc = roc_auc_score(Test_Y, probs)\n",
    "# # print('AUC: %.3f' % auc)\n",
    "# # # calculate roc curve\n",
    "# fpr, tpr, thresholds = roc_curve(Test_Y, probs)\n",
    "# # # plot no skill\n",
    "# # pyplot.plot([0, 1], [0, 1], linestyle='--')\n",
    "# # # plot the roc curve for the model\n",
    "# pyplot.plot(fpr, tpr, marker='.')\n",
    "# # show the plot\n",
    "# pyplot.show()"
   ]
  },
  {
   "cell_type": "markdown",
   "metadata": {},
   "source": [
    "## RandomForest Classifier"
   ]
  },
  {
   "cell_type": "code",
   "execution_count": 1213,
   "metadata": {},
   "outputs": [
    {
     "name": "stdout",
     "output_type": "stream",
     "text": [
      "[[84 15]\n",
      " [28 73]]\n",
      "             precision    recall  f1-score   support\n",
      "\n",
      "          0       0.75      0.85      0.80        99\n",
      "          1       0.83      0.72      0.77       101\n",
      "\n",
      "avg / total       0.79      0.79      0.78       200\n",
      "\n"
     ]
    }
   ],
   "source": [
    "# from sklearn.ensemble import ExtraTreesClassifier\n",
    "from sklearn.ensemble import RandomForestClassifier\n",
    "# modelSGD = SGDClassifier(loss='hinge', penalty='l2',alpha=1e-3, random_state=42, max_iter=5, tol=None)\n",
    "# modelSGD.fit(trainX_vectors,Train_Y)\n",
    "# print(classification_report(Test_Y,modelSGD.predict(testX_vectors)))\n",
    "randomforest = RandomForestClassifier(n_estimators=200)\n",
    "randomforest.fit(trainX_vectors,Train_Y)\n",
    "print(confusion_matrix(Test_Y,randomforest.predict(testX_vectors)))\n",
    "print(classification_report(Test_Y,randomforest.predict(testX_vectors)))"
   ]
  },
  {
   "cell_type": "markdown",
   "metadata": {},
   "source": [
    "## Naive Bayes"
   ]
  },
  {
   "cell_type": "code",
   "execution_count": 1215,
   "metadata": {},
   "outputs": [
    {
     "name": "stdout",
     "output_type": "stream",
     "text": [
      "[[82 17]\n",
      " [15 86]]\n",
      "             precision    recall  f1-score   support\n",
      "\n",
      "          0      0.845     0.828     0.837        99\n",
      "          1      0.835     0.851     0.843       101\n",
      "\n",
      "avg / total      0.840     0.840     0.840       200\n",
      "\n"
     ]
    }
   ],
   "source": [
    "from sklearn import naive_bayes\n",
    "Naive = naive_bayes.MultinomialNB()\n",
    "Naive.fit(trainX_vectors,train_y_int) \n",
    "# print(clf.predict([[-0.8, -1]]))\n",
    "print(confusion_matrix(test_y_int,Naive.predict(testX_vectors)))\n",
    "print(classification_report(test_y_int,Naive.predict(testX_vectors),digits=3))"
   ]
  },
  {
   "cell_type": "markdown",
   "metadata": {},
   "source": [
    "## CNN"
   ]
  },
  {
   "cell_type": "code",
   "execution_count": 1245,
   "metadata": {},
   "outputs": [],
   "source": [
    "import numpy\n",
    "import torch\n",
    "\n",
    "# X = numpy.random.uniform(0,1,800*3059).reshape(800,3059,-1)\n",
    "# torch.tensor()\n",
    "# print(X.shape)\n",
    "# Y = np.random.randint(0, 9, 10).reshape(1, 1, -1)\n",
    "\n",
    "class Simple1DCNN(torch.nn.Module):\n",
    "    def __init__(self,t):\n",
    "        super(Simple1DCNN, self).__init__()\n",
    "#         self.dense = torch.nn.Linear(5,3059)\n",
    "        \n",
    "        self.embed = torch.nn.Linear(2964,50,1)\n",
    "        self.layer1 = torch.nn.Conv1d(in_channels=50, out_channels=20, kernel_size=1, stride=2)\n",
    "        self.act1 = torch.nn.ReLU()\n",
    "        self.layer1b = torch.nn.Conv1d(in_channels=20, out_channels=10, kernel_size=1, stride=2)\n",
    "        self.act1b = torch.nn.ReLU()\n",
    "#         self.layer2 = torch.nn.Conv1d(in_channels=10, out_channels=2, kernel_size=1)\n",
    "        self.dense = torch.nn.Linear(10,2)\n",
    "        self.sigmoid = torch.nn.Sigmoid()\n",
    "        self.t=t\n",
    "    def forward(self, x):\n",
    "#         x = self.dense(x)\n",
    "        x = x.view(self.t,2964)\n",
    "        x = self.embed(x).unsqueeze(-1)\n",
    "        x = self.layer1(x)\n",
    "        x = self.act1(x)\n",
    "        x = self.layer1b(x)\n",
    "        x = self.act1b(x)\n",
    "#         x = self.layer2(x)\n",
    "        x= x.view(self.t,-1)\n",
    "        x = self.dense(x)\n",
    "\n",
    "        log_probs = self.sigmoid(x)\n",
    "\n",
    "        return log_probs\n",
    "\n",
    "model = Simple1DCNN(800).double()\n",
    "# print(model(torch.tensor(X).shape))\n"
   ]
  },
  {
   "cell_type": "code",
   "execution_count": 1246,
   "metadata": {},
   "outputs": [
    {
     "data": {
      "text/plain": [
       "torch.Size([800, 2964])"
      ]
     },
     "execution_count": 1246,
     "metadata": {},
     "output_type": "execute_result"
    }
   ],
   "source": [
    "torch_trainX_tensor.shape"
   ]
  },
  {
   "cell_type": "code",
   "execution_count": 1247,
   "metadata": {},
   "outputs": [],
   "source": [
    "torch_trainX_tensor = torch.tensor(trainX_vectors.todense())\n",
    "torch_testX_tensor = torch.tensor(testX_vectors.todense())"
   ]
  },
  {
   "cell_type": "code",
   "execution_count": 1248,
   "metadata": {},
   "outputs": [
    {
     "data": {
      "text/plain": [
       "torch.Size([800, 2964])"
      ]
     },
     "execution_count": 1248,
     "metadata": {},
     "output_type": "execute_result"
    }
   ],
   "source": [
    "torch_trainX_tensor.shape"
   ]
  },
  {
   "cell_type": "code",
   "execution_count": 1249,
   "metadata": {},
   "outputs": [
    {
     "data": {
      "text/plain": [
       "torch.Size([800, 2])"
      ]
     },
     "execution_count": 1249,
     "metadata": {},
     "output_type": "execute_result"
    }
   ],
   "source": [
    "from sklearn.preprocessing import OneHotEncoder\n",
    "# lc = LabelBinarizer(neg_label=0, pos_label=1,sparse_output=False).fit(np.array([['1'],['0']]))\n",
    "# print(lc.classes_)\n",
    "# trans=lc.transform(Train_Y)\n",
    "# print(trans.shape)\n",
    "# print(lc.transform()\n",
    "# oh=OneHotEncoder(n_values=2)\n",
    "# print(oh.fit_transform(np.expand_dims(Train_Y.values,-1)))\n",
    "# oh = OneHotEncoder()\n",
    "# oh.fit(np.array([['0'],['1']]))\n",
    "# print(oh.transform(np.expand_dims(Train_Y.values,-1)))\n",
    "y=[]\n",
    "for x in Train_Y.values:\n",
    "    y.append([0,1] if x=='1' else [1,0])\n",
    "    \n",
    "\n",
    "torch_trainY = torch.tensor(np.array(y,dtype=\"uint8\"),dtype=torch.double)\n",
    "torch_trainY.shape"
   ]
  },
  {
   "cell_type": "code",
   "execution_count": 1250,
   "metadata": {},
   "outputs": [
    {
     "data": {
      "text/plain": [
       "torch.Size([200, 2])"
      ]
     },
     "execution_count": 1250,
     "metadata": {},
     "output_type": "execute_result"
    }
   ],
   "source": [
    "y1 = []\n",
    "for x in Test_Y.values:\n",
    "    y1.append([0,1] if x =='1' else [1,0])\n",
    "\n",
    "torch_testY = torch.tensor(np.array(y1,dtype=\"uint8\"),dtype=torch.double)\n",
    "torch_testY.shape"
   ]
  },
  {
   "cell_type": "code",
   "execution_count": 1251,
   "metadata": {},
   "outputs": [],
   "source": [
    "torch.set_default_tensor_type('torch.DoubleTensor')"
   ]
  },
  {
   "cell_type": "code",
   "execution_count": 1252,
   "metadata": {},
   "outputs": [
    {
     "data": {
      "text/plain": [
       "<bound method Module.eval of Simple1DCNN(\n",
       "  (embed): Linear(in_features=3059, out_features=50, bias=True)\n",
       "  (layer1): Conv1d(50, 20, kernel_size=(1,), stride=(2,))\n",
       "  (act1): ReLU()\n",
       "  (layer1b): Conv1d(20, 10, kernel_size=(1,), stride=(2,))\n",
       "  (act1b): ReLU()\n",
       "  (dense): Linear(in_features=10, out_features=2, bias=True)\n",
       "  (sigmoid): Sigmoid()\n",
       ")>"
      ]
     },
     "execution_count": 1252,
     "metadata": {},
     "output_type": "execute_result"
    }
   ],
   "source": [
    "net.eval"
   ]
  },
  {
   "cell_type": "code",
   "execution_count": 1263,
   "metadata": {},
   "outputs": [
    {
     "name": "stdout",
     "output_type": "stream",
     "text": [
      "tensor(0.6940, grad_fn=<BinaryCrossEntropyBackward>)\n",
      "tensor(0.6925, grad_fn=<BinaryCrossEntropyBackward>)\n",
      "tensor(0.6901, grad_fn=<BinaryCrossEntropyBackward>)\n",
      "tensor(0.6862, grad_fn=<BinaryCrossEntropyBackward>)\n",
      "tensor(0.6809, grad_fn=<BinaryCrossEntropyBackward>)\n",
      "tensor(0.6743, grad_fn=<BinaryCrossEntropyBackward>)\n",
      "tensor(0.6653, grad_fn=<BinaryCrossEntropyBackward>)\n",
      "tensor(0.6526, grad_fn=<BinaryCrossEntropyBackward>)\n",
      "tensor(0.6355, grad_fn=<BinaryCrossEntropyBackward>)\n",
      "tensor(0.6132, grad_fn=<BinaryCrossEntropyBackward>)\n",
      "tensor(0.5847, grad_fn=<BinaryCrossEntropyBackward>)\n",
      "tensor(0.5479, grad_fn=<BinaryCrossEntropyBackward>)\n",
      "tensor(0.5032, grad_fn=<BinaryCrossEntropyBackward>)\n",
      "tensor(0.4523, grad_fn=<BinaryCrossEntropyBackward>)\n",
      "tensor(0.3964, grad_fn=<BinaryCrossEntropyBackward>)\n",
      "tensor(0.3371, grad_fn=<BinaryCrossEntropyBackward>)\n",
      "tensor(0.2772, grad_fn=<BinaryCrossEntropyBackward>)\n",
      "tensor(0.2198, grad_fn=<BinaryCrossEntropyBackward>)\n",
      "tensor(0.1675, grad_fn=<BinaryCrossEntropyBackward>)\n"
     ]
    }
   ],
   "source": [
    "net = Simple1DCNN(800)\n",
    "criterion = torch.nn.BCELoss()\n",
    "optimizer = torch.optim.Adam(net.parameters(), lr=0.01)\n",
    "\n",
    "for i in range(1,20):\n",
    "    \n",
    "    optimizer.zero_grad() # zero the gradient buffer\n",
    "    outputs = net(torch_trainX_tensor.unsqueeze(-1))\n",
    "    \n",
    "    loss = criterion(outputs.squeeze(-1), torch_trainY)\n",
    "    print(\"EPOCH ==\"+str(i), end = \"\\r\")\n",
    "    print(loss)\n",
    "    loss.backward()\n",
    "    optimizer.step()"
   ]
  },
  {
   "cell_type": "code",
   "execution_count": 1264,
   "metadata": {},
   "outputs": [],
   "source": [
    "#save the model\n",
    "torch.save(net.state_dict(), 'model.pth')"
   ]
  },
  {
   "cell_type": "code",
   "execution_count": 1265,
   "metadata": {},
   "outputs": [],
   "source": [
    "x = torch.load('model.pth')"
   ]
  },
  {
   "cell_type": "code",
   "execution_count": 1266,
   "metadata": {},
   "outputs": [
    {
     "data": {
      "text/plain": [
       "Simple1DCNN(\n",
       "  (embed): Linear(in_features=2964, out_features=50, bias=True)\n",
       "  (layer1): Conv1d(50, 20, kernel_size=(1,), stride=(2,))\n",
       "  (act1): ReLU()\n",
       "  (layer1b): Conv1d(20, 10, kernel_size=(1,), stride=(2,))\n",
       "  (act1b): ReLU()\n",
       "  (dense): Linear(in_features=10, out_features=2, bias=True)\n",
       "  (sigmoid): Sigmoid()\n",
       ")"
      ]
     },
     "execution_count": 1266,
     "metadata": {},
     "output_type": "execute_result"
    }
   ],
   "source": [
    "model_test=Simple1DCNN(200)\n",
    "model_test.load_state_dict(torch.load('model.pth'))\n",
    "model_test.eval()"
   ]
  },
  {
   "cell_type": "code",
   "execution_count": 1042,
   "metadata": {},
   "outputs": [],
   "source": [
    "# fpr1, tpr1, threshold = metrics.roc_curve(inf_results,test_y_int)\n",
    "# pyplot.plot(fpr1, tpr1, marker='.')\n",
    "# pyplot.show()"
   ]
  },
  {
   "cell_type": "code",
   "execution_count": 1267,
   "metadata": {},
   "outputs": [],
   "source": [
    "inf_results=model_test(torch_testX_tensor)\n",
    "resultsnp =inf_results.detach().numpy()\n",
    "resultsnp = np.argmax(resultsnp,axis = 1)"
   ]
  },
  {
   "cell_type": "code",
   "execution_count": 1268,
   "metadata": {},
   "outputs": [],
   "source": [
    "new_y  = np.array(Test_Y,dtype='uint8')"
   ]
  },
  {
   "cell_type": "code",
   "execution_count": 1269,
   "metadata": {},
   "outputs": [
    {
     "name": "stdout",
     "output_type": "stream",
     "text": [
      "[[87 12]\n",
      " [20 81]]\n",
      "             precision    recall  f1-score   support\n",
      "\n",
      "          0       0.81      0.88      0.84        99\n",
      "          1       0.87      0.80      0.84       101\n",
      "\n",
      "avg / total       0.84      0.84      0.84       200\n",
      "\n"
     ]
    }
   ],
   "source": [
    "print(confusion_matrix(new_y,resultsnp))\n",
    "print(classification_report(new_y,resultsnp))"
   ]
  },
  {
   "cell_type": "code",
   "execution_count": 1270,
   "metadata": {},
   "outputs": [
    {
     "data": {
      "text/plain": [
       "tensor(0.4363, grad_fn=<BinaryCrossEntropyBackward>)"
      ]
     },
     "execution_count": 1270,
     "metadata": {},
     "output_type": "execute_result"
    }
   ],
   "source": [
    "criterion(inf_results, torch_testY)"
   ]
  },
  {
   "cell_type": "code",
   "execution_count": 1271,
   "metadata": {},
   "outputs": [
    {
     "data": {
      "text/plain": [
       "tensor([[0.1001, 0.7666],\n",
       "        [0.2092, 0.6800],\n",
       "        [0.2273, 0.6676],\n",
       "        [0.9233, 0.0223],\n",
       "        [0.2740, 0.6407],\n",
       "        [0.3198, 0.6015],\n",
       "        [0.3144, 0.5790],\n",
       "        [0.3371, 0.5700],\n",
       "        [0.1044, 0.7626],\n",
       "        [0.9341, 0.0173],\n",
       "        [0.1954, 0.6888],\n",
       "        [0.8739, 0.0509],\n",
       "        [0.9824, 0.0021],\n",
       "        [0.8425, 0.0686],\n",
       "        [0.5019, 0.3329],\n",
       "        [0.8122, 0.0991],\n",
       "        [0.5167, 0.3489],\n",
       "        [0.9330, 0.0178],\n",
       "        [0.1834, 0.6983],\n",
       "        [0.1190, 0.7496],\n",
       "        [0.7689, 0.1117],\n",
       "        [0.8436, 0.0727],\n",
       "        [0.7597, 0.1397],\n",
       "        [0.2648, 0.6448],\n",
       "        [0.8565, 0.0632],\n",
       "        [0.8106, 0.0800],\n",
       "        [0.1274, 0.7422],\n",
       "        [0.1930, 0.6917],\n",
       "        [0.3059, 0.6219],\n",
       "        [0.3547, 0.5544],\n",
       "        [0.7773, 0.1251],\n",
       "        [0.2718, 0.6412],\n",
       "        [0.1029, 0.7651],\n",
       "        [0.9084, 0.0298],\n",
       "        [0.1033, 0.7628],\n",
       "        [0.5707, 0.3387],\n",
       "        [0.6355, 0.2250],\n",
       "        [0.9301, 0.0191],\n",
       "        [0.8721, 0.0520],\n",
       "        [0.9357, 0.0167],\n",
       "        [0.8928, 0.0388],\n",
       "        [0.2520, 0.6527],\n",
       "        [0.8005, 0.0897],\n",
       "        [0.9708, 0.0047],\n",
       "        [0.8681, 0.0531],\n",
       "        [0.8387, 0.0762],\n",
       "        [0.3443, 0.5356],\n",
       "        [0.1524, 0.7205],\n",
       "        [0.8795, 0.0471],\n",
       "        [0.2060, 0.6813],\n",
       "        [0.9273, 0.0206],\n",
       "        [0.2190, 0.6751],\n",
       "        [0.8935, 0.0384],\n",
       "        [0.9848, 0.0017],\n",
       "        [0.6277, 0.2581],\n",
       "        [0.5955, 0.2777],\n",
       "        [0.9585, 0.0082],\n",
       "        [0.5387, 0.3433],\n",
       "        [0.3123, 0.6184],\n",
       "        [0.5231, 0.3834],\n",
       "        [0.6888, 0.1638],\n",
       "        [0.1575, 0.7161],\n",
       "        [0.1688, 0.7077],\n",
       "        [0.3392, 0.5915],\n",
       "        [0.3423, 0.5529],\n",
       "        [0.7614, 0.1383],\n",
       "        [0.9283, 0.0203],\n",
       "        [0.2025, 0.6847],\n",
       "        [0.0576, 0.8172],\n",
       "        [0.3816, 0.4613],\n",
       "        [0.1854, 0.6961],\n",
       "        [0.3503, 0.5101],\n",
       "        [0.9328, 0.0181],\n",
       "        [0.8999, 0.0348],\n",
       "        [0.6570, 0.1686],\n",
       "        [0.3240, 0.5972],\n",
       "        [0.2778, 0.6375],\n",
       "        [0.1515, 0.7208],\n",
       "        [0.1670, 0.7098],\n",
       "        [0.2995, 0.6253],\n",
       "        [0.9609, 0.0074],\n",
       "        [0.1887, 0.6931],\n",
       "        [0.1813, 0.6993],\n",
       "        [0.6494, 0.1965],\n",
       "        [0.5148, 0.3784],\n",
       "        [0.8002, 0.1037],\n",
       "        [0.3195, 0.5618],\n",
       "        [0.9541, 0.0097],\n",
       "        [0.9280, 0.0201],\n",
       "        [0.9316, 0.0184],\n",
       "        [0.8802, 0.0469],\n",
       "        [0.1176, 0.7511],\n",
       "        [0.1935, 0.6906],\n",
       "        [0.4265, 0.4309],\n",
       "        [0.8446, 0.0670],\n",
       "        [0.8790, 0.0473],\n",
       "        [0.8228, 0.0831],\n",
       "        [0.2879, 0.6201],\n",
       "        [0.7868, 0.1204],\n",
       "        [0.7809, 0.1237],\n",
       "        [0.8912, 0.0396],\n",
       "        [0.2290, 0.6668],\n",
       "        [0.2237, 0.6711],\n",
       "        [0.6016, 0.2781],\n",
       "        [0.6940, 0.1864],\n",
       "        [0.4864, 0.3701],\n",
       "        [0.7474, 0.1478],\n",
       "        [0.8681, 0.0551],\n",
       "        [0.1844, 0.6975],\n",
       "        [0.8736, 0.0508],\n",
       "        [0.4477, 0.4248],\n",
       "        [0.1362, 0.7346],\n",
       "        [0.9581, 0.0083],\n",
       "        [0.6289, 0.2378],\n",
       "        [0.2434, 0.6590],\n",
       "        [0.2375, 0.6628],\n",
       "        [0.9301, 0.0193],\n",
       "        [0.1009, 0.7665],\n",
       "        [0.2761, 0.6041],\n",
       "        [0.4132, 0.4595],\n",
       "        [0.5910, 0.2528],\n",
       "        [0.4260, 0.4767],\n",
       "        [0.8767, 0.0476],\n",
       "        [0.8806, 0.0466],\n",
       "        [0.2783, 0.6244],\n",
       "        [0.6520, 0.2052],\n",
       "        [0.1223, 0.7451],\n",
       "        [0.2225, 0.6711],\n",
       "        [0.9464, 0.0124],\n",
       "        [0.8918, 0.0393],\n",
       "        [0.1289, 0.7411],\n",
       "        [0.5130, 0.3389],\n",
       "        [0.3772, 0.5402],\n",
       "        [0.3575, 0.4911],\n",
       "        [0.2066, 0.6832],\n",
       "        [0.9054, 0.0315],\n",
       "        [0.2472, 0.6536],\n",
       "        [0.4906, 0.3267],\n",
       "        [0.2848, 0.6299],\n",
       "        [0.3555, 0.4923],\n",
       "        [0.1054, 0.7609],\n",
       "        [0.2523, 0.6536],\n",
       "        [0.0755, 0.7944],\n",
       "        [0.9118, 0.0281],\n",
       "        [0.2441, 0.6577],\n",
       "        [0.9588, 0.0081],\n",
       "        [0.4291, 0.4131],\n",
       "        [0.2194, 0.6732],\n",
       "        [0.8699, 0.0533],\n",
       "        [0.5221, 0.3227],\n",
       "        [0.3698, 0.4873],\n",
       "        [0.1179, 0.7506],\n",
       "        [0.6614, 0.1955],\n",
       "        [0.9024, 0.0335],\n",
       "        [0.9032, 0.0328],\n",
       "        [0.4524, 0.4512],\n",
       "        [0.8485, 0.0682],\n",
       "        [0.8916, 0.0394],\n",
       "        [0.1256, 0.7436],\n",
       "        [0.6498, 0.2027],\n",
       "        [0.3205, 0.5500],\n",
       "        [0.1364, 0.7345],\n",
       "        [0.9506, 0.0109],\n",
       "        [0.8024, 0.0968],\n",
       "        [0.2023, 0.6845],\n",
       "        [0.8001, 0.0986],\n",
       "        [0.8080, 0.1032],\n",
       "        [0.8709, 0.0531],\n",
       "        [0.3739, 0.5035],\n",
       "        [0.8542, 0.0630],\n",
       "        [0.8748, 0.0504],\n",
       "        [0.9458, 0.0126],\n",
       "        [0.1911, 0.6925],\n",
       "        [0.1150, 0.7535],\n",
       "        [0.8309, 0.0756],\n",
       "        [0.2258, 0.6693],\n",
       "        [0.6037, 0.2826],\n",
       "        [0.2596, 0.6486],\n",
       "        [0.5006, 0.3778],\n",
       "        [0.1654, 0.7104],\n",
       "        [0.2823, 0.6178],\n",
       "        [0.1601, 0.7144],\n",
       "        [0.1429, 0.7284],\n",
       "        [0.6541, 0.2217],\n",
       "        [0.3087, 0.6039],\n",
       "        [0.9448, 0.0130],\n",
       "        [0.5896, 0.2813],\n",
       "        [0.1974, 0.6875],\n",
       "        [0.9443, 0.0132],\n",
       "        [0.7190, 0.1367],\n",
       "        [0.8210, 0.0754],\n",
       "        [0.2966, 0.6277],\n",
       "        [0.2091, 0.6808],\n",
       "        [0.7692, 0.1272],\n",
       "        [0.4758, 0.3619],\n",
       "        [0.3120, 0.6027],\n",
       "        [0.1901, 0.6924],\n",
       "        [0.4759, 0.4176],\n",
       "        [0.4078, 0.4527],\n",
       "        [0.6422, 0.2438]], grad_fn=<SigmoidBackward>)"
      ]
     },
     "execution_count": 1271,
     "metadata": {},
     "output_type": "execute_result"
    }
   ],
   "source": [
    "inf_results"
   ]
  },
  {
   "cell_type": "code",
   "execution_count": 1272,
   "metadata": {},
   "outputs": [
    {
     "name": "stdout",
     "output_type": "stream",
     "text": [
      "tensor([[0.9523, 0.0103],\n",
      "        [0.0624, 0.8104],\n",
      "        [0.9468, 0.0123],\n",
      "        ...,\n",
      "        [0.0411, 0.8428],\n",
      "        [0.1195, 0.7476],\n",
      "        [0.9708, 0.0047]], grad_fn=<SigmoidBackward>)\n"
     ]
    }
   ],
   "source": [
    "print(net(torch_trainX_tensor.unsqueeze(-1)))\n",
    "# print(net(torch_testX_tensor.unsqueeze(-1)))"
   ]
  },
  {
   "cell_type": "code",
   "execution_count": 837,
   "metadata": {},
   "outputs": [],
   "source": [
    "import matplotlib.pyplot as plt"
   ]
  },
  {
   "cell_type": "code",
   "execution_count": 1273,
   "metadata": {},
   "outputs": [
    {
     "data": {
      "text/plain": [
       "torch.Size([200, 2])"
      ]
     },
     "execution_count": 1273,
     "metadata": {},
     "output_type": "execute_result"
    }
   ],
   "source": [
    "inf_results.shape"
   ]
  },
  {
   "cell_type": "code",
   "execution_count": 1274,
   "metadata": {},
   "outputs": [],
   "source": [
    "DLpred = []\n",
    "np_dl_pred = np.zeros([len(resultsnp),2])\n",
    "for i in range(len(resultsnp)):\n",
    "    if int(resultsnp[i])==1:\n",
    "        DLpred.append(1)\n",
    "    else:\n",
    "        DLpred.append(0)"
   ]
  },
  {
   "cell_type": "code",
   "execution_count": 1139,
   "metadata": {},
   "outputs": [],
   "source": [
    "# DLpred"
   ]
  },
  {
   "cell_type": "code",
   "execution_count": 1133,
   "metadata": {},
   "outputs": [],
   "source": [
    "# fpr, tpr, threshold = metrics.roc_curve(grd,DLpred)\n",
    "# pyplot.plot(fpr, tpr, label= 'DL', marker='.')\n",
    "# # pyplot.show()\n",
    "# dl_roc_auc = metrics.auc(fpr, tpr)\n",
    "# dl_roc_auc"
   ]
  },
  {
   "cell_type": "markdown",
   "metadata": {},
   "source": [
    "## ROC curve"
   ]
  },
  {
   "cell_type": "code",
   "execution_count": 1275,
   "metadata": {},
   "outputs": [],
   "source": [
    "#NB\n",
    "naive_pred=Naive.predict(testX_vectors)\n",
    "# print(Naive_pred)\n",
    "NVpred=[]\n",
    "np_nb_pred=np.zeros([len(naive_pred),2])\n",
    "for i in range(len(naive_pred)):\n",
    "    if int(naive_pred[i]) ==1:\n",
    "        NVpred.append(1)\n",
    "    else:\n",
    "        NVpred.append(0)\n",
    "        \n",
    "#SVM        \n",
    "svm_predictions=clf.predict(testX_vectors)\n",
    "# print(svm_predictions)\n",
    "pred=[]\n",
    "np_svm_pred=np.zeros([len(svm_predictions),2])\n",
    "for i in range(len(svm_predictions)):\n",
    "    if int(svm_predictions[i]) ==1:\n",
    "        pred.append(1)\n",
    "    else:\n",
    "        pred.append(0)\n",
    " \n",
    "#RF\n",
    "rf_pred = randomforest.predict(testX_vectors)\n",
    "random_pred = []\n",
    "np_rf_pred=np.zeros([len(rf_pred),2])\n",
    "for i in range(len(rf_pred)):\n",
    "    if int(rf_pred[i]) ==1:\n",
    "        random_pred.append(1)\n",
    "    else:\n",
    "        random_pred.append(0)\n",
    "\n",
    "#DL\n",
    "DLpred = []\n",
    "np_dl_pred = np.zeros([len(resultsnp),2])\n",
    "for i in range(len(resultsnp)):\n",
    "    if int(resultsnp[i])==1:\n",
    "        DLpred.append(1)\n",
    "    else:\n",
    "        DLpred.append(0)"
   ]
  },
  {
   "cell_type": "code",
   "execution_count": 1276,
   "metadata": {},
   "outputs": [
    {
     "data": {
      "image/png": "[encoded data removed]",
      "text/plain": [
       "<Figure size 432x288 with 1 Axes>"
      ]
     },
     "metadata": {
      "needs_background": "light"
     },
     "output_type": "display_data"
    },
    {
     "name": "stdout",
     "output_type": "stream",
     "text": [
      "ROC_AUC score of SVM 0.845034503450345\n",
      "ROC_AUC score of Naive Bayes 0.8398839883988398\n",
      "ROC_AUC score of Random Forest 0.7856285628562857\n",
      "ROC_AUC score of CNN 0.8403840384038405\n"
     ]
    }
   ],
   "source": [
    "ground_truth_test=np.array(test_y_int)\n",
    "# print(ground_truth_test)\n",
    "grd=[]\n",
    "for i in ground_truth_test:\n",
    "    if i == '1':\n",
    "        grd.append(1)\n",
    "    else:\n",
    "        grd.append(0)\n",
    "        \n",
    "# for NV Bayes        \n",
    "fpr, tpr, threshold = metrics.roc_curve(grd,NVpred)\n",
    "pyplot.plot(fpr, tpr, marker='.')\n",
    "# pyplot.show()\n",
    "nb_roc_auc = metrics.auc(fpr, tpr)\n",
    "\n",
    "# for SVM\n",
    "fpr, tpr, threshold = metrics.roc_curve(grd,pred)\n",
    "pyplot.plot(fpr, tpr, marker='.')\n",
    "# pyplot.show()\n",
    "svm_roc_auc = metrics.auc(fpr, tpr)\n",
    "\n",
    "# for RF CLassifier\n",
    "fpr, tpr, threshold = metrics.roc_curve(grd,random_pred)\n",
    "pyplot.plot(fpr, tpr, marker='.')\n",
    "# pyplot.show()\n",
    "rf_roc_auc = metrics.auc(fpr, tpr)\n",
    "\n",
    "#forDL\n",
    "fpr, tpr, threshold = metrics.roc_curve(grd,DLpred)\n",
    "pyplot.plot(fpr, tpr, marker='.')\n",
    "pyplot.show()\n",
    "dl_roc_auc = metrics.auc(fpr, tpr)\n",
    "\n",
    "\n",
    "print('ROC_AUC score of SVM {}'.format(svm_roc_auc))\n",
    "print('ROC_AUC score of Naive Bayes {}'.format(nb_roc_auc))\n",
    "print('ROC_AUC score of Random Forest {}'.format(rf_roc_auc))\n",
    "print('ROC_AUC score of CNN {}'.format(dl_roc_auc))"
   ]
  }
 ],
 "metadata": {
  "kernelspec": {
   "display_name": "Python 3",
   "language": "python",
   "name": "python3"
  },
  "language_info": {
   "codemirror_mode": {
    "name": "ipython",
    "version": 3
   },
   "file_extension": ".py",
   "mimetype": "text/x-python",
   "name": "python",
   "nbconvert_exporter": "python",
   "pygments_lexer": "ipython3",
   "version": "3.6.2"
  }
 },
 "nbformat": 4,
 "nbformat_minor": 2
}
